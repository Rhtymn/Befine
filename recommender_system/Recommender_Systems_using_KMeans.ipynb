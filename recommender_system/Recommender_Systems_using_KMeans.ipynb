{
  "nbformat": 4,
  "nbformat_minor": 0,
  "metadata": {
    "colab": {
      "provenance": []
    },
    "kernelspec": {
      "name": "python3",
      "display_name": "Python 3"
    },
    "language_info": {
      "name": "python"
    }
  },
  "cells": [
    {
      "cell_type": "markdown",
      "source": [
        "# Preprocessing data menggunakan TFIDF"
      ],
      "metadata": {
        "id": "8PEQ9LsNjPx1"
      }
    },
    {
      "cell_type": "code",
      "execution_count": 1,
      "metadata": {
        "id": "VLmaRKfhipqA"
      },
      "outputs": [],
      "source": [
        "import pandas as pd\n",
        "from sklearn.feature_extraction.text import TfidfVectorizer\n",
        "from sklearn.cluster import KMeans\n",
        "import pickle\n",
        "\n",
        "# Baca dataset bengkel ke dalam DataFrame\n",
        "data = pd.read_csv('data_bengkel.csv')\n",
        "\n",
        "# Menginisialisasi objek TF-IDF vectorizer\n",
        "tfidf = TfidfVectorizer(stop_words='english')\n",
        "\n",
        "# Mengubah teks deskripsi menjadi matriks TF-IDF\n",
        "tfidf_matrix = tfidf.fit_transform(data['fitur'])"
      ]
    },
    {
      "cell_type": "markdown",
      "source": [
        "# Menyimpan model ke format .h5"
      ],
      "metadata": {
        "id": "_Pu6aPGOjIFo"
      }
    },
    {
      "cell_type": "code",
      "source": [
        "import h5py\n",
        "import numpy as np\n",
        "\n",
        "def save_kmeans_to_h5(model, filepath):\n",
        "    with h5py.File(filepath, 'w') as f:\n",
        "        # Buat grup untuk model K-means\n",
        "        kmeans_group = f.create_group('kmeans')\n",
        "\n",
        "        # Simpan atribut model\n",
        "        kmeans_group.attrs['model_name'] = 'K-means Model'\n",
        "        kmeans_group.attrs['description'] = 'Model K-means untuk sistem rekomendasi bengkel'\n",
        "        kmeans_group.attrs['n_clusters'] = model.n_clusters\n",
        "        kmeans_group.attrs['random_state'] = model.random_state\n",
        "\n",
        "        # Simpan centroid kluster\n",
        "        kmeans_group.create_dataset('cluster_centers_', data=model.cluster_centers_)\n",
        "\n",
        "        # Simpan label kluster\n",
        "        kmeans_group.create_dataset('labels_', data=model.labels_)\n",
        "\n",
        "        # Simpan jumlah iterasi yang dilakukan\n",
        "        kmeans_group.attrs['n_iter_'] = model.n_iter_\n",
        "\n",
        "# Melakukan clustering dengan K-means\n",
        "kmeans = KMeans(n_clusters=15, random_state=42)\n",
        "kmeans.fit(tfidf_matrix)\n",
        "\n",
        "# Menyimpan model K-means ke dalam file .h5\n",
        "save_kmeans_to_h5(kmeans, 'recommender_system.h5')"
      ],
      "metadata": {
        "colab": {
          "base_uri": "https://localhost:8080/"
        },
        "id": "FaWzyXNHivsw",
        "outputId": "2e62d72d-1d01-4ca3-aac4-49fcdbb5cddf"
      },
      "execution_count": 2,
      "outputs": [
        {
          "output_type": "stream",
          "name": "stderr",
          "text": [
            "/usr/local/lib/python3.10/dist-packages/sklearn/cluster/_kmeans.py:870: FutureWarning: The default value of `n_init` will change from 10 to 'auto' in 1.4. Set the value of `n_init` explicitly to suppress the warning\n",
            "  warnings.warn(\n"
          ]
        }
      ]
    },
    {
      "cell_type": "markdown",
      "source": [
        "# Menampilkan hasil rekomendasi"
      ],
      "metadata": {
        "id": "jgWOi_k-jb5q"
      }
    },
    {
      "cell_type": "code",
      "source": [
        "# Fungsi untuk mendapatkan rekomendasi berdasarkan deskripsi bengkel\n",
        "def get_recommendations(fitur, kmeans=kmeans, data=data):\n",
        "    # Mengubah deskripsi menjadi vektor TF-IDF\n",
        "    tfidf_vector = tfidf.transform([fitur])\n",
        "\n",
        "    # Mengelompokkan vektor dengan model K-means\n",
        "    cluster_label = kmeans.predict(tfidf_vector)[0]\n",
        "\n",
        "    # Mendapatkan indeks bengkel dalam kluster yang sama\n",
        "    recommended_indices = data[kmeans.labels_ == cluster_label].index\n",
        "\n",
        "    # Mengembalikan nama-nama bengkel rekomendasi\n",
        "    return data['nama'].iloc[recommended_indices]\n",
        "\n",
        "# Contoh penggunaan\n",
        "recommendations = get_recommendations('bengkel mekanik official')\n",
        "print(recommendations)"
      ],
      "metadata": {
        "colab": {
          "base_uri": "https://localhost:8080/"
        },
        "id": "44TVvPvKiyEX",
        "outputId": "475e9f6d-3aa6-4811-9b47-5727192eccb7"
      },
      "execution_count": 3,
      "outputs": [
        {
          "output_type": "stream",
          "name": "stdout",
          "text": [
            "3               bengkel mobil almet spesialis matic\n",
            "5                                bengkel mobil iyan\n",
            "7                 bengkel mobil kembar auto service\n",
            "9             bengkel mobil kurnia jaya motor denso\n",
            "14                  bengkel mobil motor anto garage\n",
            "22                           bengkel mobil retrofit\n",
            "27                         bengkel mobil bang sirun\n",
            "31                                       istana per\n",
            "40                                  bengkel pospera\n",
            "140    Bengkel Mobil Mugiwara Pasar Mobil Kemayoran\n",
            "Name: nama, dtype: object\n"
          ]
        }
      ]
    },
    {
      "cell_type": "markdown",
      "source": [
        "# Mengevaluasi model"
      ],
      "metadata": {
        "id": "O6ukyLHijCtT"
      }
    },
    {
      "cell_type": "code",
      "source": [
        "from sklearn.metrics import silhouette_score\n",
        "\n",
        "# Menghitung inertia\n",
        "inertia = kmeans.inertia_\n",
        "print(\"Inertia:\", inertia)\n",
        "\n",
        "# Menghitung Silhouette score\n",
        "silhouette = silhouette_score(tfidf_matrix, kmeans.labels_)\n",
        "print(\"Silhouette Score:\", silhouette)"
      ],
      "metadata": {
        "colab": {
          "base_uri": "https://localhost:8080/"
        },
        "id": "DkoPJ1OMi0MR",
        "outputId": "34b80d29-2124-403a-9a7e-9beee0cf88d0"
      },
      "execution_count": 4,
      "outputs": [
        {
          "output_type": "stream",
          "name": "stdout",
          "text": [
            "Inertia: 61.25740927984211\n",
            "Silhouette Score: 0.17555395951616906\n"
          ]
        }
      ]
    },
    {
      "cell_type": "markdown",
      "source": [
        "Untuk mengevaluasi model sistem rekomendasi yang menggunakan K-means dapat menggunakan beberapa metrik evaluasi berikut:\n",
        "\n",
        "1. Inertia: Inertia mengukur sejauh mana titik data dalam suatu kluster cenderung berdekatan dengan centroid kluster tersebut. Semakin rendah nilai inertia, semakin baik model K-means yang dihasilkan. Hal ini dapat menggunakan atribut inertia_ dari objek KMeans di scikit-learn untuk mendapatkan nilai inertia model.\n",
        "\n",
        "2. Silhouette Score: Silhouette score mengukur sejauh mana objek dalam satu kluster memiliki kedekatan dengan objek dalam kluster yang sama dibandingkan dengan kluster lain. Nilai Silhouette score berkisar antara -1 hingga 1, di mana nilai yang lebih tinggi menunjukkan kualitas klustering yang lebih baik. Hal ini dapat menggunakan fungsi silhouette_score dari scikit-learn untuk menghitung nilai Silhouette score.\n",
        "\n",
        "3. Evaluasi Subyektif: Selain metrik evaluasi numerik, penting juga untuk melakukan evaluasi subyektif terhadap rekomendasi yang dihasilkan oleh model K-means. Hal ini dapat melibatkan pengguna atau pemangku kepentingan dalam proses evaluasi untuk memperoleh umpan balik dan insight mengenai relevansi dan kualitas rekomendasi yang diberikan oleh model."
      ],
      "metadata": {
        "id": "69-oahYwjBiN"
      }
    }
  ]
}